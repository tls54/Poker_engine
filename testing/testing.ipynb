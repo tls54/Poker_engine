{
 "cells": [
  {
   "cell_type": "code",
   "execution_count": 1,
   "metadata": {},
   "outputs": [],
   "source": [
    "import sys \n",
    "import os"
   ]
  },
  {
   "cell_type": "code",
   "execution_count": 7,
   "metadata": {},
   "outputs": [],
   "source": [
    "import numpy as np\n",
    "from poker_engine import Player\n",
    "from poker_engine import Card, Deck\n",
    "from poker_engine.utils import hand_to_cpp"
   ]
  },
  {
   "cell_type": "code",
   "execution_count": null,
   "metadata": {},
   "outputs": [],
   "source": [
    "# Example test run\n",
    "deck = Deck()\n",
    "players = []\n",
    "\n",
    "matrix = np.zeros((13, 13))\n",
    "\n",
    "# Pocket pairs\n",
    "for i in range(0,13):\n",
    "    matrix[i, i] = 1\n",
    "\n",
    "matrix[0,1] = 1\n",
    "\n",
    "# Create 3 players with the same simple range\n",
    "for i in range(1):\n",
    "    players.append(Player(name=f\"Player {i+1}\", range_matrix=matrix))\n",
    "\n",
    "# Deal hole cards\n",
    "for p in players:\n",
    "    p.receive_cards(deck.deal(2))\n",
    "    p.decide_action()\n",
    "    print(f\"{p.name}: {p.hole_cards}, Action: {'All-in' if p.all_in_hand else 'Fold'}\")\n",
    "\n",
    "board = deck.deal(5)\n",
    "\n",
    "print(f'Hand: {players[0].hole_cards}, Type: {players[0].hand_to_type()}, Coords: {players[0]._hand_to_coords()}')\n",
    "\n",
    "print(f'Board: {board}')"
   ]
  },
  {
   "cell_type": "code",
   "execution_count": null,
   "metadata": {},
   "outputs": [],
   "source": [
    "players[0].range_matrix"
   ]
  },
  {
   "cell_type": "code",
   "execution_count": null,
   "metadata": {},
   "outputs": [],
   "source": []
  },
  {
   "cell_type": "code",
   "execution_count": null,
   "metadata": {},
   "outputs": [],
   "source": [
    "\n",
    "print(players[0].hole_cards)\n",
    "\n",
    "card1 = players[0].hole_cards[0]\n",
    "card2 = players[0].hole_cards[1]\n",
    "hand = [card1, card2]\n",
    "\n",
    "print(hand_to_cpp(hand))"
   ]
  }
 ],
 "metadata": {
  "kernelspec": {
   "display_name": "base",
   "language": "python",
   "name": "python3"
  },
  "language_info": {
   "codemirror_mode": {
    "name": "ipython",
    "version": 3
   },
   "file_extension": ".py",
   "mimetype": "text/x-python",
   "name": "python",
   "nbconvert_exporter": "python",
   "pygments_lexer": "ipython3",
   "version": "3.12.7"
  }
 },
 "nbformat": 4,
 "nbformat_minor": 2
}
