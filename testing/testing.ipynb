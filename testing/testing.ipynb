{
 "cells": [
  {
   "cell_type": "code",
   "execution_count": null,
   "metadata": {},
   "outputs": [],
   "source": [
    "import sys \n",
    "import os\n",
    "# Add project root to PYTHONPATH dynamically\n",
    "sys.path.append(os.path.abspath(os.path.join(os.path.dirname(__file__), '..')))"
   ]
  },
  {
   "cell_type": "code",
   "execution_count": 43,
   "metadata": {},
   "outputs": [],
   "source": [
    "import numpy as np\n",
    "from engine.python.Back_end.Cards_and_deck import *\n",
    "from engine.python.Back_end.Player import Player\n",
    "from engine.python.Back_end.Matrix_GUI import Create_RangeChart"
   ]
  },
  {
   "cell_type": "code",
   "execution_count": 42,
   "metadata": {},
   "outputs": [
    {
     "name": "stdout",
     "output_type": "stream",
     "text": [
      "Player 1: [4c, 4s], Action: All-in\n",
      "Hand: [4c, 4s], Type: 44, Coords: (10, 10)\n",
      "Board: [7h, Td, 7c, Jh, Ts]\n"
     ]
    }
   ],
   "source": [
    "# Example test run\n",
    "deck = Deck()\n",
    "players = []\n",
    "\n",
    "matrix = np.zeros((13, 13))\n",
    "\n",
    "# Pocket pairs\n",
    "for i in range(0,13):\n",
    "    matrix[i, i] = 1\n",
    "\n",
    "matrix[0,1] = 1\n",
    "\n",
    "# Create 3 players with the same simple range\n",
    "for i in range(1):\n",
    "    players.append(Player(name=f\"Player {i+1}\", range_matrix=matrix))\n",
    "\n",
    "# Deal hole cards\n",
    "for p in players:\n",
    "    p.receive_cards(deck.deal(2))\n",
    "    p.decide_action()\n",
    "    print(f\"{p.name}: {p.hole_cards}, Action: {'All-in' if p.all_in_hand else 'Fold'}\")\n",
    "\n",
    "board = deck.deal(5)\n",
    "\n",
    "print(f'Hand: {players[0].hole_cards}, Type: {players[0].hand_to_type()}, Coords: {players[0]._hand_to_coords()}')\n",
    "\n",
    "print(f'Board: {board}')"
   ]
  },
  {
   "cell_type": "code",
   "execution_count": null,
   "metadata": {},
   "outputs": [],
   "source": [
    "players[0].range_matrix"
   ]
  },
  {
   "cell_type": "code",
   "execution_count": null,
   "metadata": {},
   "outputs": [],
   "source": [
    "#Create_RangeChart()\n",
    "ranges_directory = 'Python/Back_end/preset_ranges/'\n",
    "range_chart = np.load(ranges_directory + '22+and_suited.npy')\n",
    "\n",
    "print(range_chart.shape)\n",
    "range_chart"
   ]
  },
  {
   "cell_type": "code",
   "execution_count": 56,
   "metadata": {},
   "outputs": [
    {
     "name": "stdout",
     "output_type": "stream",
     "text": [
      "[4c, 4s]\n",
      "[41, 2]\n"
     ]
    }
   ],
   "source": [
    "from Python.utils import hand_to_cpp\n",
    "print(players[0].hole_cards)\n",
    "\n",
    "card1 = players[0].hole_cards[0]\n",
    "card2 = players[0].hole_cards[1]\n",
    "hand = [card1, card2]\n",
    "\n",
    "print(hand_to_cpp(hand))"
   ]
  },
  {
   "cell_type": "code",
   "execution_count": 67,
   "metadata": {},
   "outputs": [
    {
     "name": "stdout",
     "output_type": "stream",
     "text": [
      "[(3, 1), (4, 2), (5, 3), (6, 4)]\n"
     ]
    },
    {
     "data": {
      "text/plain": [
       "([3, 4, 5, 6], [1, 2, 3, 4])"
      ]
     },
     "execution_count": 67,
     "metadata": {},
     "output_type": "execute_result"
    }
   ],
   "source": [
    "def test_func(n):\n",
    "    return n+1, n-1\n",
    "\n",
    "n_values = [2,3,4,5]\n",
    "\n",
    "outputs = [test_func(n) for n in n_values]\n",
    "print(outputs)\n",
    "scores = [output[0] for output in outputs]\n",
    "values = [output[1] for output in outputs]\n",
    "\n",
    "scores, values"
   ]
  },
  {
   "cell_type": "code",
   "execution_count": 70,
   "metadata": {},
   "outputs": [
    {
     "data": {
      "text/plain": [
       "5"
      ]
     },
     "execution_count": 70,
     "metadata": {},
     "output_type": "execute_result"
    }
   ],
   "source": [
    "winner_index = scores.index(max(scores))\n",
    "winner_index\n",
    "n_values[winner_index]"
   ]
  },
  {
   "cell_type": "code",
   "execution_count": null,
   "metadata": {},
   "outputs": [],
   "source": [
    "\n"
   ]
  }
 ],
 "metadata": {
  "kernelspec": {
   "display_name": "base",
   "language": "python",
   "name": "python3"
  },
  "language_info": {
   "codemirror_mode": {
    "name": "ipython",
    "version": 3
   },
   "file_extension": ".py",
   "mimetype": "text/x-python",
   "name": "python",
   "nbconvert_exporter": "python",
   "pygments_lexer": "ipython3",
   "version": "3.12.7"
  }
 },
 "nbformat": 4,
 "nbformat_minor": 2
}
